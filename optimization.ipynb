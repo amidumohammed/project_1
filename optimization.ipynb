{
 "cells": [
  {
   "cell_type": "code",
   "execution_count": 1,
   "metadata": {},
   "outputs": [],
   "source": [
    "import  numpy as np\n",
    "import cvxpy as cv\n"
   ]
  },
  {
   "cell_type": "code",
   "execution_count": 2,
   "metadata": {},
   "outputs": [
    {
     "data": {
      "text/plain": [
       "'1.0.25'"
      ]
     },
     "execution_count": 2,
     "metadata": {},
     "output_type": "execute_result"
    }
   ],
   "source": [
    "cv.__version__"
   ]
  },
  {
   "cell_type": "code",
   "execution_count": 3,
   "metadata": {},
   "outputs": [],
   "source": [
    "#Definition your variables\n",
    "x = cv.Variable(2)\n",
    "\n",
    "#Defining your objective function\n",
    "obj = -x[0] - 2*x[1]\n",
    "\n",
    "obj = cv.Minimize(-x[0] - 2*x[1])\n",
    "\n",
    "#Defining your constraints\n",
    "const = [-x[0] + 3*x[1] <= 3,\n",
    "        x[0] + x[1] <= 5,\n",
    "        x[0] >= 0,\n",
    "        x[1] >= 0]"
   ]
  },
  {
   "cell_type": "code",
   "execution_count": 4,
   "metadata": {},
   "outputs": [],
   "source": [
    "#Assigning a variable to the optimization function\n",
    "problem = cv.Problem(obj, const)"
   ]
  },
  {
   "cell_type": "code",
   "execution_count": 5,
   "metadata": {},
   "outputs": [
    {
     "data": {
      "text/plain": [
       "-7.0"
      ]
     },
     "execution_count": 5,
     "metadata": {},
     "output_type": "execute_result"
    }
   ],
   "source": [
    "#solving the optimal solution\n",
    "problem.solve()"
   ]
  },
  {
   "cell_type": "code",
   "execution_count": 6,
   "metadata": {},
   "outputs": [
    {
     "data": {
      "text/plain": [
       "array([3., 2.])"
      ]
     },
     "execution_count": 6,
     "metadata": {},
     "output_type": "execute_result"
    }
   ],
   "source": [
    "#finding the optimal values\n",
    "x.value"
   ]
  },
  {
   "cell_type": "code",
   "execution_count": 7,
   "metadata": {},
   "outputs": [],
   "source": [
    "\n",
    "##OPTIMIZING THE LOSS FUNCTION FOR A SIMPLE LINEAR REGRESSION DEVOID OF A BIAS"
   ]
  },
  {
   "cell_type": "code",
   "execution_count": 8,
   "metadata": {},
   "outputs": [],
   "source": [
    "#generate random values\n",
    "np.random.seed(1)\n",
    "n = 50\n",
    "y_simple = np.random.randn(n)\n",
    "x_simple = np.random.randn(n)"
   ]
  },
  {
   "cell_type": "code",
   "execution_count": 9,
   "metadata": {},
   "outputs": [
    {
     "data": {
      "text/plain": [
       "((50,), (50,))"
      ]
     },
     "execution_count": 9,
     "metadata": {},
     "output_type": "execute_result"
    }
   ],
   "source": [
    "x_simple.shape, y_simple.shape"
   ]
  },
  {
   "cell_type": "code",
   "execution_count": 10,
   "metadata": {},
   "outputs": [
    {
     "ename": "SyntaxError",
     "evalue": "invalid syntax (<ipython-input-10-b1d4e6407fb1>, line 3)",
     "output_type": "error",
     "traceback": [
      "\u001b[0;36m  File \u001b[0;32m\"<ipython-input-10-b1d4e6407fb1>\"\u001b[0;36m, line \u001b[0;32m3\u001b[0m\n\u001b[0;31m    prob = cv.Problem(obj)\u001b[0m\n\u001b[0m       ^\u001b[0m\n\u001b[0;31mSyntaxError\u001b[0m\u001b[0;31m:\u001b[0m invalid syntax\n"
     ]
    }
   ],
   "source": [
    "w = cv.Variable(n)\n",
    "obj = cv.Minimize(cv.sum_squares(y_simple - (w*x_simple) / n)\n",
    "prob = cv.Problem(obj)"
   ]
  },
  {
   "cell_type": "code",
   "execution_count": 11,
   "metadata": {},
   "outputs": [
    {
     "ename": "NameError",
     "evalue": "name 'prob' is not defined",
     "output_type": "error",
     "traceback": [
      "\u001b[0;31m---------------------------------------------------------------------------\u001b[0m",
      "\u001b[0;31mNameError\u001b[0m                                 Traceback (most recent call last)",
      "\u001b[0;32m<ipython-input-11-613465fcbb4d>\u001b[0m in \u001b[0;36m<module>\u001b[0;34m()\u001b[0m\n\u001b[0;32m----> 1\u001b[0;31m \u001b[0mprob\u001b[0m\u001b[0;34m.\u001b[0m\u001b[0msolve\u001b[0m\u001b[0;34m(\u001b[0m\u001b[0;34m)\u001b[0m\u001b[0;34m\u001b[0m\u001b[0;34m\u001b[0m\u001b[0m\n\u001b[0m",
      "\u001b[0;31mNameError\u001b[0m: name 'prob' is not defined"
     ]
    }
   ],
   "source": [
    "prob.solve()\n"
   ]
  },
  {
   "cell_type": "code",
   "execution_count": 12,
   "metadata": {},
   "outputs": [
    {
     "ename": "NameError",
     "evalue": "name 'w' is not defined",
     "output_type": "error",
     "traceback": [
      "\u001b[0;31m---------------------------------------------------------------------------\u001b[0m",
      "\u001b[0;31mNameError\u001b[0m                                 Traceback (most recent call last)",
      "\u001b[0;32m<ipython-input-12-371b8a9b8628>\u001b[0m in \u001b[0;36m<module>\u001b[0;34m()\u001b[0m\n\u001b[0;32m----> 1\u001b[0;31m \u001b[0mw\u001b[0m\u001b[0;34m.\u001b[0m\u001b[0mvalue\u001b[0m\u001b[0;34m\u001b[0m\u001b[0;34m\u001b[0m\u001b[0m\n\u001b[0m",
      "\u001b[0;31mNameError\u001b[0m: name 'w' is not defined"
     ]
    }
   ],
   "source": [
    "w.value"
   ]
  },
  {
   "cell_type": "code",
   "execution_count": null,
   "metadata": {},
   "outputs": [],
   "source": []
  },
  {
   "cell_type": "code",
   "execution_count": 13,
   "metadata": {},
   "outputs": [],
   "source": [
    "np.random.seed(1)\n",
    "n = 50\n",
    "y = np.random.randn(n)\n",
    "x = np.random.randn(n)"
   ]
  },
  {
   "cell_type": "code",
   "execution_count": 14,
   "metadata": {},
   "outputs": [
    {
     "data": {
      "text/plain": [
       "(50,)"
      ]
     },
     "execution_count": 14,
     "metadata": {},
     "output_type": "execute_result"
    }
   ],
   "source": [
    "x.shape"
   ]
  },
  {
   "cell_type": "code",
   "execution_count": 15,
   "metadata": {},
   "outputs": [],
   "source": [
    "w = cv.Variable(1)\n",
    "b = cv.Variable(1)\n",
    "obj = cv.Minimize(cv.sum_squares(y - (w*x) + b) / n)\n",
    "prob = cv.Problem(obj)"
   ]
  },
  {
   "cell_type": "code",
   "execution_count": 16,
   "metadata": {},
   "outputs": [
    {
     "data": {
      "text/plain": [
       "-7.000000000000009"
      ]
     },
     "execution_count": 16,
     "metadata": {},
     "output_type": "execute_result"
    }
   ],
   "source": [
    "problem.solve()"
   ]
  },
  {
   "cell_type": "code",
   "execution_count": 17,
   "metadata": {},
   "outputs": [],
   "source": [
    "w.value"
   ]
  },
  {
   "cell_type": "code",
   "execution_count": 18,
   "metadata": {},
   "outputs": [],
   "source": [
    "b.value"
   ]
  },
  {
   "cell_type": "code",
   "execution_count": 19,
   "metadata": {},
   "outputs": [],
   "source": [
    "#MULTIPLE LINEAR REGRESSION"
   ]
  },
  {
   "cell_type": "code",
   "execution_count": 20,
   "metadata": {},
   "outputs": [],
   "source": [
    "np.random.seed(1)\n",
    "n = 150\n",
    "m = 20\n",
    "Y = np.random.randn(n)\n",
    "X = np.random.randn(n,m)"
   ]
  },
  {
   "cell_type": "code",
   "execution_count": 21,
   "metadata": {},
   "outputs": [],
   "source": [
    "W = cv.Variable(m)\n",
    "obj = cv.Minimize(cv.square(cv.norm2(Y - X*W)))\n",
    "PROB = cv.Problem(obj)"
   ]
  },
  {
   "cell_type": "code",
   "execution_count": 22,
   "metadata": {},
   "outputs": [
    {
     "data": {
      "text/plain": [
       "103.5970136633693"
      ]
     },
     "execution_count": 22,
     "metadata": {},
     "output_type": "execute_result"
    }
   ],
   "source": [
    "PROB.solve()"
   ]
  },
  {
   "cell_type": "code",
   "execution_count": 23,
   "metadata": {},
   "outputs": [
    {
     "data": {
      "text/plain": [
       "array([ 0.17466031,  0.10631958,  0.08722336,  0.03084005, -0.03546575,\n",
       "       -0.04348829, -0.01629189,  0.00305956, -0.08081888,  0.02300616,\n",
       "        0.00453184,  0.03173734, -0.01098854,  0.07438982,  0.0578941 ,\n",
       "       -0.05919649, -0.00067602, -0.04605193,  0.01198067, -0.05065962])"
      ]
     },
     "execution_count": 23,
     "metadata": {},
     "output_type": "execute_result"
    }
   ],
   "source": [
    "W.value"
   ]
  },
  {
   "cell_type": "code",
   "execution_count": 24,
   "metadata": {},
   "outputs": [],
   "source": [
    "#LASSO REGRESSION\n",
    "np.random.seed(1)\n",
    "a = 150\n",
    "b = 20\n",
    "Y1 = np.random.randn(a)\n",
    "X1 = np.random.randn(a,b)"
   ]
  },
  {
   "cell_type": "code",
   "execution_count": 25,
   "metadata": {},
   "outputs": [
    {
     "ename": "SyntaxError",
     "evalue": "invalid syntax (<ipython-input-25-3d225fe8ccef>, line 4)",
     "output_type": "error",
     "traceback": [
      "\u001b[0;36m  File \u001b[0;32m\"<ipython-input-25-3d225fe8ccef>\"\u001b[0;36m, line \u001b[0;32m4\u001b[0m\n\u001b[0;31m    prob_lasso = cv.Problem(obj_lasso)\u001b[0m\n\u001b[0m             ^\u001b[0m\n\u001b[0;31mSyntaxError\u001b[0m\u001b[0;31m:\u001b[0m invalid syntax\n"
     ]
    }
   ],
   "source": [
    "w_lasso = cv.Variable(b)\n",
    "alpha = 0.5\n",
    "obj_lasso = cv.Minimize((cv.sum_squares(cv.norm(Y1 - (X1 * w_lasso))) + alpha * cv.norm(w_lasso))\n",
    "prob_lasso = cv.Problem(obj_lasso)"
   ]
  },
  {
   "cell_type": "code",
   "execution_count": 26,
   "metadata": {},
   "outputs": [
    {
     "ename": "NameError",
     "evalue": "name 'prob_lasso' is not defined",
     "output_type": "error",
     "traceback": [
      "\u001b[0;31m---------------------------------------------------------------------------\u001b[0m",
      "\u001b[0;31mNameError\u001b[0m                                 Traceback (most recent call last)",
      "\u001b[0;32m<ipython-input-26-e06025979b1b>\u001b[0m in \u001b[0;36m<module>\u001b[0;34m()\u001b[0m\n\u001b[0;32m----> 1\u001b[0;31m \u001b[0mprob_lasso\u001b[0m\u001b[0;34m.\u001b[0m\u001b[0msolve\u001b[0m\u001b[0;34m(\u001b[0m\u001b[0;34m)\u001b[0m\u001b[0;34m\u001b[0m\u001b[0;34m\u001b[0m\u001b[0m\n\u001b[0m",
      "\u001b[0;31mNameError\u001b[0m: name 'prob_lasso' is not defined"
     ]
    }
   ],
   "source": [
    "prob_lasso.solve()"
   ]
  },
  {
   "cell_type": "code",
   "execution_count": 27,
   "metadata": {},
   "outputs": [
    {
     "ename": "NameError",
     "evalue": "name 'w_lasso' is not defined",
     "output_type": "error",
     "traceback": [
      "\u001b[0;31m---------------------------------------------------------------------------\u001b[0m",
      "\u001b[0;31mNameError\u001b[0m                                 Traceback (most recent call last)",
      "\u001b[0;32m<ipython-input-27-78ab0b428d53>\u001b[0m in \u001b[0;36m<module>\u001b[0;34m()\u001b[0m\n\u001b[0;32m----> 1\u001b[0;31m \u001b[0mw_lasso\u001b[0m\u001b[0;34m.\u001b[0m\u001b[0mvalue\u001b[0m\u001b[0;34m\u001b[0m\u001b[0;34m\u001b[0m\u001b[0m\n\u001b[0m",
      "\u001b[0;31mNameError\u001b[0m: name 'w_lasso' is not defined"
     ]
    }
   ],
   "source": [
    "w_lasso.value"
   ]
  },
  {
   "cell_type": "code",
   "execution_count": 28,
   "metadata": {},
   "outputs": [],
   "source": [
    "##Quadratic Programming\n",
    "\n",
    "#Ridge regression \n",
    "np.random.seed(1)\n",
    "c = 150\n",
    "d = 20\n",
    "Y2 = np.random.randn(c)\n",
    "X2 = np.random.randn(c,d)"
   ]
  },
  {
   "cell_type": "code",
   "execution_count": 29,
   "metadata": {},
   "outputs": [],
   "source": [
    "w_ridge = cv.Variable(d)\n",
    "alpha_2 = 0.5\n",
    "obj_ridge = cv.Minimize((cv.sum_squares(cv.norm(Y2 - (X2 * w_ridge) ))) + alpha_2 * cv.norm2(w_ridge))\n",
    "prob_ridge = cv.Problem(obj_ridge)"
   ]
  },
  {
   "cell_type": "code",
   "execution_count": 30,
   "metadata": {},
   "outputs": [
    {
     "data": {
      "text/plain": [
       "103.7373154326551"
      ]
     },
     "execution_count": 30,
     "metadata": {},
     "output_type": "execute_result"
    }
   ],
   "source": [
    "prob_ridge.solve()"
   ]
  },
  {
   "cell_type": "code",
   "execution_count": 31,
   "metadata": {},
   "outputs": [
    {
     "data": {
      "text/plain": [
       "array([ 0.17349574,  0.10566921,  0.08694261,  0.03062579, -0.03547698,\n",
       "       -0.04313972, -0.01625238,  0.00287891, -0.08051588,  0.02263038,\n",
       "        0.00436396,  0.03147548, -0.01108874,  0.07397961,  0.0573734 ,\n",
       "       -0.05904655, -0.00064257, -0.04547862,  0.01190881, -0.05015558])"
      ]
     },
     "execution_count": 31,
     "metadata": {},
     "output_type": "execute_result"
    }
   ],
   "source": [
    "w_ridge.value"
   ]
  },
  {
   "cell_type": "code",
   "execution_count": 32,
   "metadata": {},
   "outputs": [],
   "source": [
    "##QUADRATIC OPTIMISATION\n"
   ]
  },
  {
   "cell_type": "code",
   "execution_count": 33,
   "metadata": {},
   "outputs": [],
   "source": [
    "np.random.seed\n",
    "k = 150\n",
    "l = 20\n",
    "Y3 = np.random.randn(k)\n",
    "X3 = np.random.randn(l,k)"
   ]
  },
  {
   "cell_type": "code",
   "execution_count": 34,
   "metadata": {},
   "outputs": [],
   "source": [
    "W_quad = cv.Variable(l)\n",
    "objective_quad = cv.Minimize((1/2) * cv.square(cv.norm2((X3.T ) * W_quad - Y3)))\n",
    "PROBLEM = cv.Problem(objective_quad)"
   ]
  },
  {
   "cell_type": "code",
   "execution_count": 35,
   "metadata": {},
   "outputs": [
    {
     "data": {
      "text/plain": [
       "73.4480141379532"
      ]
     },
     "execution_count": 35,
     "metadata": {},
     "output_type": "execute_result"
    }
   ],
   "source": [
    "PROBLEM.solve()"
   ]
  },
  {
   "cell_type": "code",
   "execution_count": 36,
   "metadata": {},
   "outputs": [
    {
     "data": {
      "text/plain": [
       "array([-0.01563927,  0.07050773, -0.1324903 , -0.14005629, -0.0934458 ,\n",
       "        0.05870437, -0.0288675 , -0.03637339, -0.0349551 , -0.07703684,\n",
       "        0.02614148,  0.02385759, -0.12583051,  0.13321194,  0.05202856,\n",
       "       -0.09979245, -0.05190316,  0.02895704,  0.00916003, -0.013711  ])"
      ]
     },
     "execution_count": 36,
     "metadata": {},
     "output_type": "execute_result"
    }
   ],
   "source": [
    "W_quad.value"
   ]
  },
  {
   "cell_type": "code",
   "execution_count": null,
   "metadata": {},
   "outputs": [],
   "source": []
  },
  {
   "cell_type": "code",
   "execution_count": null,
   "metadata": {},
   "outputs": [],
   "source": []
  },
  {
   "cell_type": "code",
   "execution_count": 37,
   "metadata": {},
   "outputs": [],
   "source": [
    "#COVARIANCE OF X\n",
    "Q = np.cov(X3, rowvar = True)\n",
    "b = X3 @ Y3"
   ]
  },
  {
   "cell_type": "code",
   "execution_count": 38,
   "metadata": {},
   "outputs": [],
   "source": [
    "OBJECTIVE2 = cv.Minimize(0.5 * cv.quad_form(W_quad, Q) - b.T @ W_quad + (0.5 * Y3 @ Y3))\n",
    "OBJECTIVE_PROBLEM = cv.Problem(OBJECTIVE2)"
   ]
  },
  {
   "cell_type": "code",
   "execution_count": 39,
   "metadata": {},
   "outputs": [
    {
     "data": {
      "text/plain": [
       "-1171.3638631959489"
      ]
     },
     "execution_count": 39,
     "metadata": {},
     "output_type": "execute_result"
    }
   ],
   "source": [
    "\n",
    "OBJECTIVE_PROBLEM.solve()"
   ]
  },
  {
   "cell_type": "code",
   "execution_count": 40,
   "metadata": {},
   "outputs": [
    {
     "data": {
      "text/plain": [
       "array([ -2.33279031,  12.15810497, -20.19370777, -20.87045214,\n",
       "       -14.82144243,   8.49987531,  -4.25165233,  -5.66536648,\n",
       "        -6.10885877, -11.79929486,   3.77978789,   3.63492323,\n",
       "       -18.52114105,  19.61594385,   8.07493095, -14.79784116,\n",
       "        -7.03775171,   5.34166036,   1.28551497,  -2.05235816])"
      ]
     },
     "execution_count": 40,
     "metadata": {},
     "output_type": "execute_result"
    }
   ],
   "source": [
    "W_quad.value"
   ]
  },
  {
   "cell_type": "code",
   "execution_count": null,
   "metadata": {},
   "outputs": [],
   "source": []
  },
  {
   "cell_type": "code",
   "execution_count": 41,
   "metadata": {},
   "outputs": [],
   "source": [
    "#Quadratic OPtimization\n",
    "#minimize 2x1^2 + 2x2^2 - x1*x2\n",
    "\n",
    "#subject to: 2*x1 + 3x2 >= 1\n",
    "#            5*x1 + 4*x2 >= 1"
   ]
  },
  {
   "cell_type": "code",
   "execution_count": 42,
   "metadata": {},
   "outputs": [],
   "source": [
    "#Defining arrays for the constants of the quadratic equation\n",
    "c = np.array([2, 2, -1])\n",
    "#creating arrays for q and an array for the constraints A and b\n",
    "Q = np.array([[2, -1/2], [-1/2, 2]]) ; A = np.array([[2,3], [5,4]]) ; b = np.ones((2,))"
   ]
  },
  {
   "cell_type": "code",
   "execution_count": 43,
   "metadata": {},
   "outputs": [],
   "source": [
    "#define your variables of the objective function\n",
    "x = cv.Variable(2)\n",
    "\n",
    "#creating your minimization objective function\n",
    "obj11 = cv.Minimize(2*x[0]**2 + 2*x[1]**2 - x[0]*x[1])\n",
    "\n",
    "#defining your constraints\n",
    "const11 =[A*x >= b]"
   ]
  },
  {
   "cell_type": "code",
   "execution_count": 44,
   "metadata": {},
   "outputs": [],
   "source": [
    "#solving the optimization problem\n",
    "prob11 = cv.Problem(obj11, const11)\n"
   ]
  },
  {
   "cell_type": "code",
   "execution_count": 45,
   "metadata": {},
   "outputs": [],
   "source": [
    "#prob11.solve()\n",
    "#executing this for solution is not feasible  Problem does not follow DCP rules. Specifically:\n",
    "#The objective is not DCP. Hence we use the cv.quad_form function."
   ]
  },
  {
   "cell_type": "code",
   "execution_count": 46,
   "metadata": {},
   "outputs": [],
   "source": [
    "prob111 = cv.Problem(cv.Minimize(cv.quad_form(x,Q)), const11)"
   ]
  },
  {
   "cell_type": "code",
   "execution_count": 47,
   "metadata": {},
   "outputs": [
    {
     "data": {
      "text/plain": [
       "0.11718750000000003"
      ]
     },
     "execution_count": 47,
     "metadata": {},
     "output_type": "execute_result"
    }
   ],
   "source": [
    "prob111.solve()"
   ]
  },
  {
   "cell_type": "code",
   "execution_count": 48,
   "metadata": {},
   "outputs": [
    {
     "data": {
      "text/plain": [
       "array([0.171875, 0.21875 ])"
      ]
     },
     "execution_count": 48,
     "metadata": {},
     "output_type": "execute_result"
    }
   ],
   "source": [
    "x.value"
   ]
  },
  {
   "cell_type": "code",
   "execution_count": 49,
   "metadata": {},
   "outputs": [
    {
     "data": {
      "text/plain": [
       "array([1.      , 1.734375])"
      ]
     },
     "execution_count": 49,
     "metadata": {},
     "output_type": "execute_result"
    }
   ],
   "source": [
    "#verifying whether the first condition is true\n",
    "A@x.value"
   ]
  },
  {
   "cell_type": "code",
   "execution_count": 50,
   "metadata": {},
   "outputs": [],
   "source": [
    "#Minimizing using the Lagrange Multipliers\n",
    "\n",
    "Q1 = np.array([[2, -1/2], [-1/2, 2]]) ; A1 = np.array([[2,3], [5,4]]) ; b1 = np.ones((2,))\n"
   ]
  },
  {
   "cell_type": "code",
   "execution_count": 51,
   "metadata": {},
   "outputs": [],
   "source": [
    "##defining the variables for Lambda\n",
    "lambda1 = cv.Variable(2)\n",
    "\n",
    "#defining S\n",
    "S = (A1 @ np.linalg.inv(Q1) @ A1.T) / 4\n",
    "\n",
    "#Quadratic objective function\n",
    "obj_Lag = cv.Maximize((lambda1.T @ b1) - (cv.quad_form(lambda1, S)))\n",
    "\n",
    "#defining the constraint\n",
    "const_Lag = [lambda1 >= 0]"
   ]
  },
  {
   "cell_type": "code",
   "execution_count": 52,
   "metadata": {},
   "outputs": [],
   "source": [
    "#Definition of the lagrange function\n",
    "prob_Lag = cv.Problem(obj_Lag, const_Lag)"
   ]
  },
  {
   "cell_type": "code",
   "execution_count": 53,
   "metadata": {},
   "outputs": [
    {
     "data": {
      "text/plain": [
       "0.11718750000000003"
      ]
     },
     "execution_count": 53,
     "metadata": {},
     "output_type": "execute_result"
    }
   ],
   "source": [
    "#calling  the function to find the optimal solution\n",
    "prob_Lag.solve()"
   ]
  },
  {
   "cell_type": "code",
   "execution_count": 54,
   "metadata": {},
   "outputs": [
    {
     "data": {
      "text/plain": [
       "array([2.34375000e-01, 6.62567448e-24])"
      ]
     },
     "execution_count": 54,
     "metadata": {},
     "output_type": "execute_result"
    }
   ],
   "source": [
    "#finding the values of lambda\n",
    "lambda1.value"
   ]
  },
  {
   "cell_type": "code",
   "execution_count": 55,
   "metadata": {},
   "outputs": [
    {
     "data": {
      "text/plain": [
       "array([ True,  True])"
      ]
     },
     "execution_count": 55,
     "metadata": {},
     "output_type": "execute_result"
    }
   ],
   "source": [
    "b - A @ x.value <= 0"
   ]
  },
  {
   "cell_type": "code",
   "execution_count": 56,
   "metadata": {},
   "outputs": [
    {
     "data": {
      "text/plain": [
       "array([ True,  True])"
      ]
     },
     "execution_count": 56,
     "metadata": {},
     "output_type": "execute_result"
    }
   ],
   "source": [
    "lambda1.value >= 0"
   ]
  },
  {
   "cell_type": "code",
   "execution_count": 57,
   "metadata": {},
   "outputs": [
    {
     "data": {
      "text/plain": [
       "True"
      ]
     },
     "execution_count": 57,
     "metadata": {},
     "output_type": "execute_result"
    }
   ],
   "source": [
    "all(lambda1.value * (b - A @ x.value)) == 0"
   ]
  },
  {
   "cell_type": "code",
   "execution_count": 58,
   "metadata": {},
   "outputs": [
    {
     "data": {
      "text/plain": [
       "array([-5.55111512e-17,  0.00000000e+00])"
      ]
     },
     "execution_count": 58,
     "metadata": {},
     "output_type": "execute_result"
    }
   ],
   "source": [
    "d_l = 2 * x.value.T @ Q - lambda1.value.T @ A\n",
    "d_l"
   ]
  },
  {
   "cell_type": "code",
   "execution_count": null,
   "metadata": {},
   "outputs": [],
   "source": []
  },
  {
   "cell_type": "code",
   "execution_count": null,
   "metadata": {},
   "outputs": [],
   "source": [
    "#Solving problem 1\n",
    "#minimize 4x1 + 5abs(x2 - 1)\n",
    "#subject to abs(2x1) + abs(x2 - 3) <= 5"
   ]
  },
  {
   "cell_type": "code",
   "execution_count": 59,
   "metadata": {},
   "outputs": [],
   "source": [
    "x = cv.Variable(2)\n",
    "obj_p1 = cv.Minimize( 4*x[0] + 5*cv.abs(x[1] - 1))\n",
    "cons_p1 = [cv.abs(2 * x[0]) + cv.abs(x[1] - 3) <= 5]\n",
    "p1 = cv.Problem(obj_p1, cons_p1)\n"
   ]
  },
  {
   "cell_type": "code",
   "execution_count": 60,
   "metadata": {},
   "outputs": [
    {
     "data": {
      "text/plain": [
       "-6.000000000000001"
      ]
     },
     "execution_count": 60,
     "metadata": {},
     "output_type": "execute_result"
    }
   ],
   "source": [
    "p1.solve()"
   ]
  },
  {
   "cell_type": "code",
   "execution_count": 61,
   "metadata": {},
   "outputs": [
    {
     "name": "stdout",
     "output_type": "stream",
     "text": [
      "the values of x are: [-1.5  1. ]\n"
     ]
    }
   ],
   "source": [
    "print(\"the values of x are: {}\".format(x.value))"
   ]
  },
  {
   "cell_type": "code",
   "execution_count": 62,
   "metadata": {},
   "outputs": [],
   "source": [
    "#problem 2\n",
    "#maximize 7.8x1 + 7.1x2\n",
    "#subject to\n",
    "#1/4 x1 + 1/3 x2 <= 90\n",
    "#1/8 x1 + 1/3 x2 <= 80\n",
    "#x1 >= 0 or -x1 <= 0\n",
    "#x2 >= 0 or -x2 <= 0\n",
    "#let x = product"
   ]
  },
  {
   "cell_type": "code",
   "execution_count": 110,
   "metadata": {},
   "outputs": [],
   "source": [
    "#DECLARING THE PRODUCT VARIABLE\n",
    "product = cv.Variable(2)\n",
    "\n",
    "#SPECIFY THE OBJECTIVE FUNCTION\n",
    "obj_prob2 = cv.Maximize(7.8*product[0] + 7.1*product[1])\n",
    "\n",
    "#SPECIFY THE CONSTRAINTS\n",
    "\n",
    "cons_prob2 = [\n",
    "    1/4*product[0] + 1/3*product[1] <= 90,\n",
    "    1/8*product[0] + 1/3*product[1] <= 80,\n",
    "    product[0] >= 0,\n",
    "    product[1] >= 0\n",
    "             ]\n",
    "\n",
    "#call out the optimization function\n",
    "p2 = cv.Problem(obj_prob2, cons_prob2)"
   ]
  },
  {
   "cell_type": "code",
   "execution_count": 120,
   "metadata": {},
   "outputs": [
    {
     "name": "stdout",
     "output_type": "stream",
     "text": [
      "iter   objective    pri res    dua res    rho        time\n",
      "   1  -2.8080e+03   1.36e-13   5.20e-15   7.94e-03   1.26e-04s\n",
      "  25  -2.8080e+03   1.19e-13   1.91e-14   7.94e-03   2.35e-04s\n",
      "\n",
      "status:               solved\n",
      "number of iterations: 25\n",
      "optimal objective:    -2808.0000\n",
      "run time:             3.05e-04s\n",
      "optimal rho estimate: 1.44e-05\n",
      "\n"
     ]
    },
    {
     "data": {
      "text/plain": [
       "2807.9999999999986"
      ]
     },
     "execution_count": 120,
     "metadata": {},
     "output_type": "execute_result"
    }
   ],
   "source": [
    "p2.solve(verbose=True)"
   ]
  },
  {
   "cell_type": "code",
   "execution_count": 112,
   "metadata": {},
   "outputs": [
    {
     "name": "stdout",
     "output_type": "stream",
     "text": [
      " the values of product are: [3.60000000e+02 2.16483374e-21]\n"
     ]
    }
   ],
   "source": [
    "print(\" the values of product are: {}\".format(product.value))"
   ]
  },
  {
   "cell_type": "code",
   "execution_count": 113,
   "metadata": {},
   "outputs": [],
   "source": [
    "#problem 2 b\n",
    "#suppose that up to 50 hours of overtime assembly labor can be scheduled at a cost of $7 per hour\n",
    "#let x3 =  overtime\n",
    "#maximize 7.8x1 + 7.1x2 - 7x3\n",
    "#subject to\n",
    "#1/4 x1 + 1/3 x2 <= 90\n",
    "#1/8 x1 + 1/3 x2 <= 80\n",
    "#x3 <= 50\n",
    "#x1 >= 0 or -x1 <= 0\n",
    "#x2 >= 0 or -x2 <= 0\n",
    "#x3 >= 0\n",
    "#let x = product"
   ]
  },
  {
   "cell_type": "code",
   "execution_count": 116,
   "metadata": {},
   "outputs": [],
   "source": [
    "#DECLARING THE PRODUCT VARIABLE\n",
    "product1 = cv.Variable(3)\n",
    "\n",
    "#SPECIFY THE OBJECTIVE FUNCTION\n",
    "obj_prob3 = cv.Maximize(7.8*product1[0] + 7.1*product1[1])\n",
    "\n",
    "#SPECIFY THE CONSTRAINTS\n",
    "m1 = np.array([[1/4, 1/3, 0], [1/8, 1/3, 0], [-1, 0, 0], [0,-1, 0], [0, 0, 1],[0, 0, -1]])\n",
    "n1 = np.array([90, 80, 0, 0, 50, 0])\n",
    "\n",
    "cons_prob3 = [(m1 @ product1) <= n1]\n",
    "\n",
    "#call out the optimization function\n",
    "p3 = cv.Problem(obj_prob3, cons_prob3)"
   ]
  },
  {
   "cell_type": "code",
   "execution_count": 122,
   "metadata": {},
   "outputs": [
    {
     "data": {
      "text/plain": [
       "2808.0000000000014"
      ]
     },
     "execution_count": 122,
     "metadata": {},
     "output_type": "execute_result"
    }
   ],
   "source": [
    "p3.solve()"
   ]
  },
  {
   "cell_type": "code",
   "execution_count": 123,
   "metadata": {},
   "outputs": [
    {
     "name": "stdout",
     "output_type": "stream",
     "text": [
      "the values of product1 are: var1228\n"
     ]
    }
   ],
   "source": [
    "print(\"the values of product1 are: {}\".format(product1))"
   ]
  },
  {
   "cell_type": "code",
   "execution_count": 125,
   "metadata": {},
   "outputs": [
    {
     "data": {
      "text/plain": [
       "array([ 3.6000000e+02, -1.3718113e-13,  0.0000000e+00])"
      ]
     },
     "execution_count": 125,
     "metadata": {},
     "output_type": "execute_result"
    }
   ],
   "source": [
    "product1.value\n"
   ]
  },
  {
   "cell_type": "code",
   "execution_count": null,
   "metadata": {},
   "outputs": [],
   "source": []
  }
 ],
 "metadata": {
  "kernelspec": {
   "display_name": "Python 3",
   "language": "python",
   "name": "python3"
  },
  "language_info": {
   "codemirror_mode": {
    "name": "ipython",
    "version": 3
   },
   "file_extension": ".py",
   "mimetype": "text/x-python",
   "name": "python",
   "nbconvert_exporter": "python",
   "pygments_lexer": "ipython3",
   "version": "3.7.3"
  }
 },
 "nbformat": 4,
 "nbformat_minor": 2
}
